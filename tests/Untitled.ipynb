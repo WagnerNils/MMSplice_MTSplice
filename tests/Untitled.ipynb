{
 "cells": [
  {
   "cell_type": "code",
   "execution_count": null,
   "metadata": {},
   "outputs": [],
   "source": [
    "from mmsplice.vcf_dataloader import SplicingVCFDataloader\n",
    "from mmsplice import MMSplice, predict_save, predict_all_table\n",
    "from mmsplice.utils import max_varEff\n",
    "\n",
    "# example files\n",
    "gtf = 'tests/data/test.gtf'\n",
    "vcf = 'tests/data/test.vcf.gz'\n",
    "fasta = 'tests/data/hg19.nochr.chr17.fa'\n",
    "\n",
    "# dataloader to load variants from vcf\n",
    "dl = SplicingVCFDataloader(gtf, fasta, vcf, tissue_specific=False)\n",
    "\n",
    "# Specify model\n",
    "model = MMSplice()\n",
    "# Or predict and return as df\n",
    "predictions = predict_all_table(model, dl, pathogenicity=True, splicing_efficiency=True)\n",
    "\n",
    "# Summerize with maximum effect size\n",
    "predictionsMax = max_varEff(predictions)"
   ]
  }
 ],
 "metadata": {
  "kernelspec": {
   "display_name": "Python 3",
   "language": "python",
   "name": "python3"
  },
  "language_info": {
   "codemirror_mode": {
    "name": "ipython",
    "version": 3
   },
   "file_extension": ".py",
   "mimetype": "text/x-python",
   "name": "python",
   "nbconvert_exporter": "python",
   "pygments_lexer": "ipython3",
   "version": "3.6.12"
  }
 },
 "nbformat": 4,
 "nbformat_minor": 4
}
