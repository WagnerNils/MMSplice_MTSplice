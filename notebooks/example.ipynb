{
 "cells": [
  {
   "cell_type": "markdown",
   "metadata": {},
   "source": [
    "# Example code to apply the modular splicing model"
   ]
  },
  {
   "cell_type": "markdown",
   "metadata": {},
   "source": [
    "## Splicing delta PSI prediction"
   ]
  },
  {
   "cell_type": "markdown",
   "metadata": {},
   "source": [
    "Example test variants come from ClinVar BRCA1 variants"
   ]
  },
  {
   "cell_type": "code",
   "execution_count": 1,
   "metadata": {
    "scrolled": true
   },
   "outputs": [],
   "source": [
    "from mmsplice.vcf_dataloader import SplicingVCFDataloader\n",
    "from mmsplice import MMSplice, predict_all_table, predict_save\n",
    "from mmsplice.utils import max_varEff"
   ]
  },
  {
   "cell_type": "code",
   "execution_count": 2,
   "metadata": {},
   "outputs": [],
   "source": [
    "gtf = '../tests/data/test.gtf'\n",
    "vcf = '../tests/data/test.vcf.gz'\n",
    "fasta = '../tests/data/hg19.nochr.chr17.fa'"
   ]
  },
  {
   "cell_type": "code",
   "execution_count": 3,
   "metadata": {
    "scrolled": false
   },
   "outputs": [],
   "source": [
    "dl = SplicingVCFDataloader(gtf, fasta, vcf, encode=False, split_seq=True)"
   ]
  },
  {
   "cell_type": "code",
   "execution_count": 4,
   "metadata": {
    "scrolled": false
   },
   "outputs": [
    {
     "data": {
      "text/plain": [
       "{'inputs': {'seq': {'acceptor_intron': 'CCTAAGAACTCATACAACCAGGACCCTGGAGTCGATTGATTAGAGCCTAGTCCAGGAGAATGAATTGACACTAATCTCTGCTTGTGTTCTCTGT',\n",
       "   'acceptor': 'TCCAGGAGAATGAATTGACACTAATCTCTGCTTGTGTTCTCTGTCTCCAGCAA',\n",
       "   'exon': 'CAATTGGGCAGATGTGTGAGGCACCTGTGGTGACCCGAGAGTGGGTGTTGGACAGTGTAGCACTCTACCAGTGCCAGGAGCTGGACACCTACCTGATACCCCAGATCCCCCACAGCCACTACTGACTGCAGCCAGCCACAGGTACAGAGCCACAGGACCCCAAGAATGAGCTTACAAAGTGGCCTTTCCAGGCCCTGGGAGCTCCTCTCACTCTTCAGTCCTTCTACTGTCCTGGCTACTAAATATTTTATGTACATCAGCCTGAAAAGGACTTCTGGCTATGCAAGGGTCCCTTAAAGATTTTCTGCTTGAAGTCTCCCTTGGAAATCTGCCATGAGCACAAAATTATGGTAATTTTTCACCTGAGAAGATTTTAAAACCATTTAAACGCCACCAATTGAGCAAGATGCTGATTCATTATTTATCAGCCCTATTCTTTCTATTCAGGCTGTTGTTGGCTTAGGGCTGGAAGCACAGAGTGGCTTGGCCTCAAGAGAATAGCTGGTTTCCCTAAGTTTACTTCTCTAAAACCCTGTGTTCACAAAGGCAGAGAGTCAGACCCTTCAATGGAAGGAGAGTGCTTGGGATCGATTATGTGACTTAAAGTCAGAATAGTCCTTGGGCAGTTCTCAAATGTTGGAGTGGAACATTGGGGAGGAAATTCTGAGGCAGGTATTAGAAATGAAAAGGAAACTTGAAACCTGGGCATGGTGGCTCACGCCTGTAATCCCAGCACTTTGGGAGGCCAAGGTGGGCAGATCACTGGAGGTCAGGAGTTCGAAACCAGCCTGGCCAACATGGTGAAACCCCATCTCTACTAAAAATACAGAAATTAGCCGGTCATGGTGGTGGACACCTGTAATCCCAGCTACTCAGGTGGCTAAGGCAGGAGAATCACTTCAGCCCGGGAGGTGGAGGTTGCAGTGAGCCAAGATCATACCACGGCACTCCAGCCTGGGTGACAGTGAGACTGTGGCTCAAAAAAAAAAAAAAAAAAAGGAAAATGAAACTAGAAGAGATTTCTAAAAGTCTGAGATATATTTGCTAGATTTCTAAAGAATGTGTTCTAAAACAGCAGAAGATTTTCAAGAACCGGTTTCCAAAGACAGTCTTCTAATTCCTCATTAGTAATAAGTAAAATGTTTATTGTTGTAGCTCTGGTATATAATCCATTCCTCTTAAAATATAAGACCTCTGGCATGAATATTTCATATCTATAAAATGACAGATCCCACCAGGAAGGAAGCTGTTGCTTTCTTTGAGGTGATTTTTTTCCTTTGCTCCCTGTTGCTGAAACCATACAGCTTCATAAATAATTTTGCTTGCTGAAGGAAGAAAAAGTGTTTTTCATAAACCCATTATCCAGGACTGTTTATAGCTGTTGGAAGGACTAGGTCTTCCCTAGCCCCCCCAGTGTGCAAGGGCAGTGAAGACTTGATTGTACAAAATACGTTTTGTAAATGTTGTGCTGTTAACACTGCAAATAAACTTGGTAGCAAACACTTCCA',\n",
       "   'donor': 'TTCCANNNNNNNNNNNNN',\n",
       "   'donor_intron': 'NNNNNNNN'},\n",
       "  'mut_seq': {'acceptor_intron': 'CCTAAGAACTCATACAACCAGGACCCTGGAGTCGATTGATTAGAGCCTAGTCCAGGAGAATGAATTGACACTAATCTCTGCTTGTGTTCTCTGT',\n",
       "   'acceptor': 'TCCAGGAGAATGAATTGACACTAATCTCTGCTTGTGTTCTCTGTCTCCAGCAA',\n",
       "   'exon': 'CAATTGTGTGAGGCACCTGTGGTGACCCGAGAGTGGGTGTTGGACAGTGTAGCACTCTACCAGTGCCAGGAGCTGGACACCTACCTGATACCCCAGATCCCCCACAGCCACTACTGACTGCAGCCAGCCACAGGTACAGAGCCACAGGACCCCAAGAATGAGCTTACAAAGTGGCCTTTCCAGGCCCTGGGAGCTCCTCTCACTCTTCAGTCCTTCTACTGTCCTGGCTACTAAATATTTTATGTACATCAGCCTGAAAAGGACTTCTGGCTATGCAAGGGTCCCTTAAAGATTTTCTGCTTGAAGTCTCCCTTGGAAATCTGCCATGAGCACAAAATTATGGTAATTTTTCACCTGAGAAGATTTTAAAACCATTTAAACGCCACCAATTGAGCAAGATGCTGATTCATTATTTATCAGCCCTATTCTTTCTATTCAGGCTGTTGTTGGCTTAGGGCTGGAAGCACAGAGTGGCTTGGCCTCAAGAGAATAGCTGGTTTCCCTAAGTTTACTTCTCTAAAACCCTGTGTTCACAAAGGCAGAGAGTCAGACCCTTCAATGGAAGGAGAGTGCTTGGGATCGATTATGTGACTTAAAGTCAGAATAGTCCTTGGGCAGTTCTCAAATGTTGGAGTGGAACATTGGGGAGGAAATTCTGAGGCAGGTATTAGAAATGAAAAGGAAACTTGAAACCTGGGCATGGTGGCTCACGCCTGTAATCCCAGCACTTTGGGAGGCCAAGGTGGGCAGATCACTGGAGGTCAGGAGTTCGAAACCAGCCTGGCCAACATGGTGAAACCCCATCTCTACTAAAAATACAGAAATTAGCCGGTCATGGTGGTGGACACCTGTAATCCCAGCTACTCAGGTGGCTAAGGCAGGAGAATCACTTCAGCCCGGGAGGTGGAGGTTGCAGTGAGCCAAGATCATACCACGGCACTCCAGCCTGGGTGACAGTGAGACTGTGGCTCAAAAAAAAAAAAAAAAAAAGGAAAATGAAACTAGAAGAGATTTCTAAAAGTCTGAGATATATTTGCTAGATTTCTAAAGAATGTGTTCTAAAACAGCAGAAGATTTTCAAGAACCGGTTTCCAAAGACAGTCTTCTAATTCCTCATTAGTAATAAGTAAAATGTTTATTGTTGTAGCTCTGGTATATAATCCATTCCTCTTAAAATATAAGACCTCTGGCATGAATATTTCATATCTATAAAATGACAGATCCCACCAGGAAGGAAGCTGTTGCTTTCTTTGAGGTGATTTTTTTCCTTTGCTCCCTGTTGCTGAAACCATACAGCTTCATAAATAATTTTGCTTGCTGAAGGAAGAAAAAGTGTTTTTCATAAACCCATTATCCAGGACTGTTTATAGCTGTTGGAAGGACTAGGTCTTCCCTAGCCCCCCCAGTGTGCAAGGGCAGTGAAGACTTGATTGTACAAAATACGTTTTGTAAATGTTGTGCTGTTAACACTGCAAATAAACTTGGTAGCAAACACTTCCA',\n",
       "   'donor': 'TTCCANNNNNNNNNNNNN',\n",
       "   'donor_intron': 'NNNNNNNN'}},\n",
       " 'metadata': {'variant': {'chrom': '17',\n",
       "   'pos': 41197805,\n",
       "   'ref': 'ACATCTGCC',\n",
       "   'alt': 'A',\n",
       "   'annotation': '17:41197805:ACATCTGCC>A'},\n",
       "  'exon': {'chrom': '17',\n",
       "   'start': 41196311,\n",
       "   'end': 41197819,\n",
       "   'strand': '-',\n",
       "   'left_overhang': 0,\n",
       "   'right_overhang': 100,\n",
       "   'annotation': '17:41196311-41197819:-',\n",
       "   'exon_id': 'ENSE00001814242',\n",
       "   'gene_id': 'ENSG00000012048',\n",
       "   'gene_name': 'BRCA1',\n",
       "   'transcript_id': 'ENST00000357654'}}}"
      ]
     },
     "execution_count": 4,
     "metadata": {},
     "output_type": "execute_result"
    }
   ],
   "source": [
    "next(dl)"
   ]
  },
  {
   "cell_type": "code",
   "execution_count": 5,
   "metadata": {},
   "outputs": [],
   "source": [
    "model = MMSplice()"
   ]
  },
  {
   "cell_type": "code",
   "execution_count": 6,
   "metadata": {
    "scrolled": false
   },
   "outputs": [
    {
     "name": "stderr",
     "output_type": "stream",
     "text": [
      "4it [00:10,  2.60s/it]\n"
     ]
    }
   ],
   "source": [
    "dl = SplicingVCFDataloader(gtf, fasta, vcf)\n",
    "\n",
    "predictions = predict_all_table(model, dl, pathogenicity=True, splicing_efficiency=True)"
   ]
  },
  {
   "cell_type": "code",
   "execution_count": 7,
   "metadata": {},
   "outputs": [],
   "source": [
    "predictionsMax = max_varEff(predictions)"
   ]
  },
  {
   "cell_type": "code",
   "execution_count": 8,
   "metadata": {},
   "outputs": [
    {
     "data": {
      "text/html": [
       "<div>\n",
       "<style scoped>\n",
       "    .dataframe tbody tr th:only-of-type {\n",
       "        vertical-align: middle;\n",
       "    }\n",
       "\n",
       "    .dataframe tbody tr th {\n",
       "        vertical-align: top;\n",
       "    }\n",
       "\n",
       "    .dataframe thead th {\n",
       "        text-align: right;\n",
       "    }\n",
       "</style>\n",
       "<table border=\"1\" class=\"dataframe\">\n",
       "  <thead>\n",
       "    <tr style=\"text-align: right;\">\n",
       "      <th></th>\n",
       "      <th>ID</th>\n",
       "      <th>delta_logit_psi</th>\n",
       "      <th>exons</th>\n",
       "      <th>exon_id</th>\n",
       "      <th>gene_id</th>\n",
       "      <th>gene_name</th>\n",
       "      <th>transcript_id</th>\n",
       "      <th>ref_acceptorIntron</th>\n",
       "      <th>ref_acceptor</th>\n",
       "      <th>ref_exon</th>\n",
       "      <th>ref_donor</th>\n",
       "      <th>ref_donorIntron</th>\n",
       "      <th>alt_acceptorIntron</th>\n",
       "      <th>alt_acceptor</th>\n",
       "      <th>alt_exon</th>\n",
       "      <th>alt_donor</th>\n",
       "      <th>alt_donorIntron</th>\n",
       "      <th>pathogenicity</th>\n",
       "      <th>efficiency</th>\n",
       "    </tr>\n",
       "  </thead>\n",
       "  <tbody>\n",
       "    <tr>\n",
       "      <th>921</th>\n",
       "      <td>17:41251568:GTGAGCCACCATGCCTGGCCTCTTTTGCTCCCTT...</td>\n",
       "      <td>-13.142133</td>\n",
       "      <td>17:41251791-41251894:-</td>\n",
       "      <td>ENSE00003477699</td>\n",
       "      <td>ENSG00000012048</td>\n",
       "      <td>BRCA1</td>\n",
       "      <td>ENST00000461221</td>\n",
       "      <td>-2.928739</td>\n",
       "      <td>1.003447</td>\n",
       "      <td>-3.000968</td>\n",
       "      <td>2.998045</td>\n",
       "      <td>0.683019</td>\n",
       "      <td>-3.894215</td>\n",
       "      <td>-5.617308</td>\n",
       "      <td>-1.16161</td>\n",
       "      <td>-4.262190</td>\n",
       "      <td>0.008081</td>\n",
       "      <td>1.0</td>\n",
       "      <td>-7.652228</td>\n",
       "    </tr>\n",
       "    <tr>\n",
       "      <th>388</th>\n",
       "      <td>17:41219540:CGATTACAGGCATGCGCCACCGTGCCTCGCCTCA...</td>\n",
       "      <td>-12.980691</td>\n",
       "      <td>17:41219624-41219712:-</td>\n",
       "      <td>ENSE00003492626</td>\n",
       "      <td>ENSG00000012048</td>\n",
       "      <td>BRCA1</td>\n",
       "      <td>ENST00000357654</td>\n",
       "      <td>-2.256955</td>\n",
       "      <td>4.854000</td>\n",
       "      <td>-4.449435</td>\n",
       "      <td>2.749682</td>\n",
       "      <td>0.218514</td>\n",
       "      <td>-2.898835</td>\n",
       "      <td>-6.655025</td>\n",
       "      <td>-1.16161</td>\n",
       "      <td>-3.431215</td>\n",
       "      <td>-0.198021</td>\n",
       "      <td>1.0</td>\n",
       "      <td>-6.342944</td>\n",
       "    </tr>\n",
       "    <tr>\n",
       "      <th>596</th>\n",
       "      <td>17:41232465:TGGCCTCCCAAAGTGCTGGGGTTACAGGCGTGAG...</td>\n",
       "      <td>-12.446247</td>\n",
       "      <td>17:41234420-41234592:-</td>\n",
       "      <td>ENSE00003527960</td>\n",
       "      <td>ENSG00000012048</td>\n",
       "      <td>BRCA1</td>\n",
       "      <td>ENST00000357654</td>\n",
       "      <td>-2.337047</td>\n",
       "      <td>0.198098</td>\n",
       "      <td>-3.064758</td>\n",
       "      <td>3.751723</td>\n",
       "      <td>0.509226</td>\n",
       "      <td>-3.498240</td>\n",
       "      <td>-5.302096</td>\n",
       "      <td>-1.16161</td>\n",
       "      <td>-2.475021</td>\n",
       "      <td>-0.310342</td>\n",
       "      <td>1.0</td>\n",
       "      <td>-5.989502</td>\n",
       "    </tr>\n",
       "    <tr>\n",
       "      <th>885</th>\n",
       "      <td>17:41248754:ATTTTCATCAGTCACAATTACTGCTGTGTCAATA...</td>\n",
       "      <td>-11.353840</td>\n",
       "      <td>17:41249260-41249306:-</td>\n",
       "      <td>ENSE00003587679</td>\n",
       "      <td>ENSG00000012048</td>\n",
       "      <td>BRCA1</td>\n",
       "      <td>ENST00000357654</td>\n",
       "      <td>-2.896458</td>\n",
       "      <td>0.525801</td>\n",
       "      <td>-3.411850</td>\n",
       "      <td>4.421356</td>\n",
       "      <td>0.797147</td>\n",
       "      <td>-3.806159</td>\n",
       "      <td>-6.966350</td>\n",
       "      <td>-1.16161</td>\n",
       "      <td>-3.872047</td>\n",
       "      <td>0.715352</td>\n",
       "      <td>1.0</td>\n",
       "      <td>-8.457785</td>\n",
       "    </tr>\n",
       "    <tr>\n",
       "      <th>632</th>\n",
       "      <td>17:41242891:GTGGGATACATACTACTGAATGCAAAGGACACCA...</td>\n",
       "      <td>-11.322250</td>\n",
       "      <td>17:41242960-41243049:-</td>\n",
       "      <td>ENSE00003547126</td>\n",
       "      <td>ENSG00000012048</td>\n",
       "      <td>BRCA1</td>\n",
       "      <td>ENST00000357654</td>\n",
       "      <td>-3.370246</td>\n",
       "      <td>4.042363</td>\n",
       "      <td>-3.705677</td>\n",
       "      <td>3.972384</td>\n",
       "      <td>0.524251</td>\n",
       "      <td>-2.947957</td>\n",
       "      <td>-5.811156</td>\n",
       "      <td>-1.16161</td>\n",
       "      <td>-4.428016</td>\n",
       "      <td>0.385194</td>\n",
       "      <td>1.0</td>\n",
       "      <td>-9.122529</td>\n",
       "    </tr>\n",
       "  </tbody>\n",
       "</table>\n",
       "</div>"
      ],
      "text/plain": [
       "                                                    ID  delta_logit_psi  \\\n",
       "921  17:41251568:GTGAGCCACCATGCCTGGCCTCTTTTGCTCCCTT...       -13.142133   \n",
       "388  17:41219540:CGATTACAGGCATGCGCCACCGTGCCTCGCCTCA...       -12.980691   \n",
       "596  17:41232465:TGGCCTCCCAAAGTGCTGGGGTTACAGGCGTGAG...       -12.446247   \n",
       "885  17:41248754:ATTTTCATCAGTCACAATTACTGCTGTGTCAATA...       -11.353840   \n",
       "632  17:41242891:GTGGGATACATACTACTGAATGCAAAGGACACCA...       -11.322250   \n",
       "\n",
       "                      exons          exon_id          gene_id gene_name  \\\n",
       "921  17:41251791-41251894:-  ENSE00003477699  ENSG00000012048     BRCA1   \n",
       "388  17:41219624-41219712:-  ENSE00003492626  ENSG00000012048     BRCA1   \n",
       "596  17:41234420-41234592:-  ENSE00003527960  ENSG00000012048     BRCA1   \n",
       "885  17:41249260-41249306:-  ENSE00003587679  ENSG00000012048     BRCA1   \n",
       "632  17:41242960-41243049:-  ENSE00003547126  ENSG00000012048     BRCA1   \n",
       "\n",
       "       transcript_id  ref_acceptorIntron  ref_acceptor  ref_exon  ref_donor  \\\n",
       "921  ENST00000461221           -2.928739      1.003447 -3.000968   2.998045   \n",
       "388  ENST00000357654           -2.256955      4.854000 -4.449435   2.749682   \n",
       "596  ENST00000357654           -2.337047      0.198098 -3.064758   3.751723   \n",
       "885  ENST00000357654           -2.896458      0.525801 -3.411850   4.421356   \n",
       "632  ENST00000357654           -3.370246      4.042363 -3.705677   3.972384   \n",
       "\n",
       "     ref_donorIntron  alt_acceptorIntron  alt_acceptor  alt_exon  alt_donor  \\\n",
       "921         0.683019           -3.894215     -5.617308  -1.16161  -4.262190   \n",
       "388         0.218514           -2.898835     -6.655025  -1.16161  -3.431215   \n",
       "596         0.509226           -3.498240     -5.302096  -1.16161  -2.475021   \n",
       "885         0.797147           -3.806159     -6.966350  -1.16161  -3.872047   \n",
       "632         0.524251           -2.947957     -5.811156  -1.16161  -4.428016   \n",
       "\n",
       "     alt_donorIntron  pathogenicity  efficiency  \n",
       "921         0.008081            1.0   -7.652228  \n",
       "388        -0.198021            1.0   -6.342944  \n",
       "596        -0.310342            1.0   -5.989502  \n",
       "885         0.715352            1.0   -8.457785  \n",
       "632         0.385194            1.0   -9.122529  "
      ]
     },
     "execution_count": 8,
     "metadata": {},
     "output_type": "execute_result"
    }
   ],
   "source": [
    "predictionsMax.sort_values(['delta_logit_psi']).head()"
   ]
  },
  {
   "cell_type": "code",
   "execution_count": 9,
   "metadata": {},
   "outputs": [],
   "source": [
    "from mmsplice.utils import writeVCF"
   ]
  },
  {
   "cell_type": "code",
   "execution_count": 10,
   "metadata": {
    "scrolled": true
   },
   "outputs": [],
   "source": [
    "writeVCF(vcf, \"../tests/data/test-out.vcf\", predictionsMax)"
   ]
  },
  {
   "cell_type": "code",
   "execution_count": 11,
   "metadata": {},
   "outputs": [],
   "source": [
    "import cyvcf2"
   ]
  },
  {
   "cell_type": "code",
   "execution_count": 12,
   "metadata": {},
   "outputs": [
    {
     "data": {
      "text/plain": [
       "'0.20.9'"
      ]
     },
     "execution_count": 12,
     "metadata": {},
     "output_type": "execute_result"
    }
   ],
   "source": [
    "cyvcf2.__version__"
   ]
  },
  {
   "cell_type": "markdown",
   "metadata": {},
   "source": [
    "If mmsplice `deltalogitPSI` of a variant is bigger than 2 or smaller -2 if is likely to have effect on splicing."
   ]
  },
  {
   "cell_type": "code",
   "execution_count": 13,
   "metadata": {},
   "outputs": [
    {
     "data": {
      "text/plain": [
       "<AxesSubplot:>"
      ]
     },
     "execution_count": 13,
     "metadata": {},
     "output_type": "execute_result"
    },
    {
     "data": {
      "image/png": "[encoded data removed]",
      "text/plain": [
       "<Figure size 432x288 with 1 Axes>"
      ]
     },
     "metadata": {
      "needs_background": "light"
     },
     "output_type": "display_data"
    }
   ],
   "source": [
    "import matplotlib.pyplot as plt\n",
    "\n",
    "plt.axvline(x=2, color='r')\n",
    "plt.axvline(x=-2, color='r')\n",
    "\n",
    "predictions['delta_logit_psi'].hist(bins=20)"
   ]
  },
  {
   "cell_type": "markdown",
   "metadata": {},
   "source": [
    "For huge vcf files, output is writen to csv file on batch predictions."
   ]
  },
  {
   "cell_type": "code",
   "execution_count": 14,
   "metadata": {},
   "outputs": [
    {
     "name": "stderr",
     "output_type": "stream",
     "text": [
      "4it [00:12,  3.01s/it]\n"
     ]
    }
   ],
   "source": [
    "dl = SplicingVCFDataloader(gtf, fasta, vcf)\n",
    "predict_save(model, dl, output_csv='pred.csv', pathogenicity=True, splicing_efficiency=True)"
   ]
  },
  {
   "cell_type": "code",
   "execution_count": 15,
   "metadata": {},
   "outputs": [
    {
     "name": "stdout",
     "output_type": "stream",
     "text": [
      "ID,exons,exon_id,gene_id,gene_name,transcript_id,delta_logit_psi,ref_acceptorIntron,ref_acceptor,ref_exon,ref_donor,ref_donorIntron,alt_acceptorIntron,alt_acceptor,alt_exon,alt_donor,alt_donorIntron,pathogenicity,efficiency\r\n",
      "17:41197805:ACATCTGCC>A,17:41196311-41197819:-,ENSE00001814242,ENSG00000012048,BRCA1,ENST00000357654,0.0018479383059293569,-2.9240594,5.0689387,-4.191132,-3.1975443,0.10508263,-2.9240594,5.0689387,-4.1903567,-3.1975443,0.10508263,0.9086872558907043,-0.11951388100548177\r\n",
      "17:41197805:ACATCTGCC>A,17:41196312-41197819:-,ENSE00001312675,ENSG00000012048,BRCA1,ENST00000354071,0.0018516280724399984,-2.9240594,5.0689387,-4.190762,-2.977995,0.10508263,-2.9240594,5.0689387,-4.1899843,-2.977995,0.10508263,0.8983493087035741,-0.11950473519277105\r\n",
      "17:41197805:ACATCTGCC>A,17:41196821-41197819:-,ENSE00001831829,ENSG00000012048,BRCA1,ENST00000468300,0.006489664576316575,-2.9240594,5.0689387,-3.8693066,-2.1827195,0.10508263,-2.9240594,5.0689387,-3.865532,-2.1827195,0.10508263,0.8472335991054711,-0.10800844861539596\r\n",
      "17:41197805:ACATCTGCC>A,17:41197579-41197819:-,ENSE00002914501,ENSG00000012048,BRCA1,ENST00000586385,0.04488832669926228,-2.9240594,5.0689387,-3.507481,-3.032851,0.10508263,-2.9240594,5.0689387,-3.4788947,-3.032851,0.10508263,0.8946106370974523,-0.012829804897474664\r\n",
      "17:41197805:ACATCTGCC>A,17:41197645-41197819:-,ENSE00001937547,ENSG00000012048,BRCA1,ENST00000493795,0.04854488531130818,-2.9240594,5.0689387,-3.6942868,-3.278372,0.10508263,-2.9240594,5.0689387,-3.6633377,-3.278372,0.10508263,0.9083581151285743,-0.003766304501151105\r\n",
      "17:41197805:ACATCTGCC>A,17:41197694-41197819:-,ENSE00003513816,ENSG00000012048,BRCA1,ENST00000461221,0.040369838630330494,-2.9240594,5.0689387,-3.9611063,-3.1458025,0.10508263,-2.9240594,5.0689387,-3.9354396,-3.1458025,0.10508263,0.9047552218387568,-0.024029767143022435\r\n",
      "17:41197809:CTGCCCAAT>C,17:41196311-41197819:-,ENSE00001814242,ENSG00000012048,BRCA1,ENST00000357654,-0.208981383957928,-2.9240594,5.0689387,-4.191132,-3.1975443,0.10508263,-2.9240594,4.766509,-4.180473,-3.1975443,0.10508263,0.9732778626454206,-0.23590238425825905\r\n",
      "17:41197809:CTGCCCAAT>C,17:41196312-41197819:-,ENSE00001312675,ENSG00000012048,BRCA1,ENST00000354071,-0.20897365214986383,-2.9240594,5.0689387,-4.190762,-2.977995,0.10508263,-2.9240594,4.766509,-4.180094,-2.977995,0.10508263,0.9700112526744509,-0.23588807828925418\r\n",
      "17:41197809:CTGCCCAAT>C,17:41196821-41197819:-,ENSE00001831829,ENSG00000012048,BRCA1,ENST00000468300,-0.20207647241936869,-2.9240594,5.0689387,-3.8693066,-2.1827195,0.10508263,-2.9240594,4.766509,-3.8505564,-2.1827195,0.10508263,0.9531211736815484,-0.22312640099115627\r\n"
     ]
    }
   ],
   "source": [
    "! head pred.csv"
   ]
  },
  {
   "cell_type": "markdown",
   "metadata": {},
   "source": [
    "## Exon dataloader"
   ]
  },
  {
   "cell_type": "markdown",
   "metadata": {},
   "source": [
    "Exon dataloader run mmsplice on specific set of variant-exon pairs provided by csv file which contains columns of ('chrom', 'start', 'end', 'strand', 'pos', 'ref', 'alt')"
   ]
  },
  {
   "cell_type": "code",
   "execution_count": 16,
   "metadata": {},
   "outputs": [],
   "source": [
    "exons = '../tests/data/test_exons.csv'"
   ]
  },
  {
   "cell_type": "markdown",
   "metadata": {},
   "source": [
    "`ExonDataset` can be used interchangable with `SplicingVCFDataloader` for functions like `predict_save`, `predict_all_table`"
   ]
  },
  {
   "cell_type": "code",
   "execution_count": 17,
   "metadata": {},
   "outputs": [
    {
     "name": "stderr",
     "output_type": "stream",
     "text": [
      "1it [00:00,  2.23it/s]\n"
     ]
    }
   ],
   "source": [
    "from mmsplice.exon_dataloader import ExonDataset\n",
    "\n",
    "dl = ExonDataset(exons, fasta)\n",
    "exon_pred = predict_all_table(model, dl, pathogenicity=True, splicing_efficiency=True)"
   ]
  },
  {
   "cell_type": "code",
   "execution_count": 18,
   "metadata": {},
   "outputs": [
    {
     "data": {
      "text/plain": [
       "<AxesSubplot:>"
      ]
     },
     "execution_count": 18,
     "metadata": {},
     "output_type": "execute_result"
    },
    {
     "data": {
      "image/png": "[encoded data removed]",
      "text/plain": [
       "<Figure size 432x288 with 1 Axes>"
      ]
     },
     "metadata": {
      "needs_background": "light"
     },
     "output_type": "display_data"
    }
   ],
   "source": [
    "import matplotlib.pyplot as plt\n",
    "\n",
    "exon_pred['delta_logit_psi'].hist()"
   ]
  },
  {
   "cell_type": "code",
   "execution_count": 19,
   "metadata": {},
   "outputs": [
    {
     "name": "stderr",
     "output_type": "stream",
     "text": [
      "1it [00:00,  2.72it/s]\n"
     ]
    }
   ],
   "source": [
    "dl = ExonDataset(exons, fasta)\n",
    "predict_save(model, dl, output_csv='pred_exon.csv', pathogenicity=True, splicing_efficiency=True)"
   ]
  },
  {
   "cell_type": "markdown",
   "metadata": {},
   "source": [
    "## Tissue-spefic Analysis"
   ]
  },
  {
   "cell_type": "code",
   "execution_count": 20,
   "metadata": {},
   "outputs": [
    {
     "name": "stdout",
     "output_type": "stream",
     "text": [
      "WARNING:tensorflow:No training configuration found in the save file, so the model was *not* compiled. Compile it manually.\n",
      "WARNING:tensorflow:No training configuration found in the save file, so the model was *not* compiled. Compile it manually.\n",
      "WARNING:tensorflow:No training configuration found in the save file, so the model was *not* compiled. Compile it manually.\n",
      "WARNING:tensorflow:No training configuration found in the save file, so the model was *not* compiled. Compile it manually.\n",
      "WARNING:tensorflow:No training configuration found in the save file, so the model was *not* compiled. Compile it manually.\n",
      "WARNING:tensorflow:No training configuration found in the save file, so the model was *not* compiled. Compile it manually.\n",
      "WARNING:tensorflow:No training configuration found in the save file, so the model was *not* compiled. Compile it manually.\n",
      "WARNING:tensorflow:No training configuration found in the save file, so the model was *not* compiled. Compile it manually.\n"
     ]
    },
    {
     "name": "stderr",
     "output_type": "stream",
     "text": [
      "4it [00:17,  4.37s/it]\n"
     ]
    }
   ],
   "source": [
    "dl = SplicingVCFDataloader(gtf, fasta, vcf, tissue_specific=True)\n",
    "df_tissue = predict_all_table(model, dl)"
   ]
  },
  {
   "cell_type": "code",
   "execution_count": 21,
   "metadata": {},
   "outputs": [
    {
     "data": {
      "text/html": [
       "<div>\n",
       "<style scoped>\n",
       "    .dataframe tbody tr th:only-of-type {\n",
       "        vertical-align: middle;\n",
       "    }\n",
       "\n",
       "    .dataframe tbody tr th {\n",
       "        vertical-align: top;\n",
       "    }\n",
       "\n",
       "    .dataframe thead th {\n",
       "        text-align: right;\n",
       "    }\n",
       "</style>\n",
       "<table border=\"1\" class=\"dataframe\">\n",
       "  <thead>\n",
       "    <tr style=\"text-align: right;\">\n",
       "      <th></th>\n",
       "      <th>ID</th>\n",
       "      <th>exons</th>\n",
       "      <th>exon_id</th>\n",
       "      <th>gene_id</th>\n",
       "      <th>gene_name</th>\n",
       "      <th>transcript_id</th>\n",
       "      <th>delta_logit_psi</th>\n",
       "      <th>ref_acceptorIntron</th>\n",
       "      <th>ref_acceptor</th>\n",
       "      <th>ref_exon</th>\n",
       "      <th>...</th>\n",
       "      <th>Not Sun Exposed - Skin</th>\n",
       "      <th>Sun Exposed (Lower leg) - Skin</th>\n",
       "      <th>Ileum - Small Intestine</th>\n",
       "      <th>Spleen</th>\n",
       "      <th>Stomach</th>\n",
       "      <th>Testis</th>\n",
       "      <th>Thyroid</th>\n",
       "      <th>Uterus</th>\n",
       "      <th>Vagina</th>\n",
       "      <th>Whole Blood</th>\n",
       "    </tr>\n",
       "  </thead>\n",
       "  <tbody>\n",
       "    <tr>\n",
       "      <th>0</th>\n",
       "      <td>17:41197805:ACATCTGCC&gt;A</td>\n",
       "      <td>17:41196311-41197819:-</td>\n",
       "      <td>ENSE00001814242</td>\n",
       "      <td>ENSG00000012048</td>\n",
       "      <td>BRCA1</td>\n",
       "      <td>ENST00000357654</td>\n",
       "      <td>0.001848</td>\n",
       "      <td>-2.924059</td>\n",
       "      <td>5.068939</td>\n",
       "      <td>-4.191132</td>\n",
       "      <td>...</td>\n",
       "      <td>0.053964</td>\n",
       "      <td>0.082243</td>\n",
       "      <td>0.101328</td>\n",
       "      <td>0.075041</td>\n",
       "      <td>0.051953</td>\n",
       "      <td>0.773216</td>\n",
       "      <td>0.050436</td>\n",
       "      <td>-0.025338</td>\n",
       "      <td>-0.003824</td>\n",
       "      <td>0.027193</td>\n",
       "    </tr>\n",
       "    <tr>\n",
       "      <th>1</th>\n",
       "      <td>17:41197805:ACATCTGCC&gt;A</td>\n",
       "      <td>17:41196312-41197819:-</td>\n",
       "      <td>ENSE00001312675</td>\n",
       "      <td>ENSG00000012048</td>\n",
       "      <td>BRCA1</td>\n",
       "      <td>ENST00000354071</td>\n",
       "      <td>0.001852</td>\n",
       "      <td>-2.924059</td>\n",
       "      <td>5.068939</td>\n",
       "      <td>-4.190762</td>\n",
       "      <td>...</td>\n",
       "      <td>0.055764</td>\n",
       "      <td>0.084173</td>\n",
       "      <td>0.102613</td>\n",
       "      <td>0.075961</td>\n",
       "      <td>0.053700</td>\n",
       "      <td>0.744371</td>\n",
       "      <td>0.051365</td>\n",
       "      <td>-0.023235</td>\n",
       "      <td>-0.002185</td>\n",
       "      <td>0.031144</td>\n",
       "    </tr>\n",
       "    <tr>\n",
       "      <th>2</th>\n",
       "      <td>17:41197805:ACATCTGCC&gt;A</td>\n",
       "      <td>17:41196821-41197819:-</td>\n",
       "      <td>ENSE00001831829</td>\n",
       "      <td>ENSG00000012048</td>\n",
       "      <td>BRCA1</td>\n",
       "      <td>ENST00000468300</td>\n",
       "      <td>0.006490</td>\n",
       "      <td>-2.924059</td>\n",
       "      <td>5.068939</td>\n",
       "      <td>-3.869307</td>\n",
       "      <td>...</td>\n",
       "      <td>0.056254</td>\n",
       "      <td>0.086411</td>\n",
       "      <td>0.093613</td>\n",
       "      <td>0.076901</td>\n",
       "      <td>0.046173</td>\n",
       "      <td>0.950643</td>\n",
       "      <td>0.062990</td>\n",
       "      <td>-0.022413</td>\n",
       "      <td>0.001350</td>\n",
       "      <td>0.011484</td>\n",
       "    </tr>\n",
       "    <tr>\n",
       "      <th>3</th>\n",
       "      <td>17:41197805:ACATCTGCC&gt;A</td>\n",
       "      <td>17:41197579-41197819:-</td>\n",
       "      <td>ENSE00002914501</td>\n",
       "      <td>ENSG00000012048</td>\n",
       "      <td>BRCA1</td>\n",
       "      <td>ENST00000586385</td>\n",
       "      <td>0.044888</td>\n",
       "      <td>-2.924059</td>\n",
       "      <td>5.068939</td>\n",
       "      <td>-3.507481</td>\n",
       "      <td>...</td>\n",
       "      <td>0.084291</td>\n",
       "      <td>0.113552</td>\n",
       "      <td>0.121693</td>\n",
       "      <td>0.101070</td>\n",
       "      <td>0.081794</td>\n",
       "      <td>0.834321</td>\n",
       "      <td>0.084638</td>\n",
       "      <td>0.022229</td>\n",
       "      <td>0.034102</td>\n",
       "      <td>0.059702</td>\n",
       "    </tr>\n",
       "    <tr>\n",
       "      <th>4</th>\n",
       "      <td>17:41197805:ACATCTGCC&gt;A</td>\n",
       "      <td>17:41197645-41197819:-</td>\n",
       "      <td>ENSE00001937547</td>\n",
       "      <td>ENSG00000012048</td>\n",
       "      <td>BRCA1</td>\n",
       "      <td>ENST00000493795</td>\n",
       "      <td>0.048545</td>\n",
       "      <td>-2.924059</td>\n",
       "      <td>5.068939</td>\n",
       "      <td>-3.694287</td>\n",
       "      <td>...</td>\n",
       "      <td>0.132582</td>\n",
       "      <td>0.164388</td>\n",
       "      <td>0.146401</td>\n",
       "      <td>0.129797</td>\n",
       "      <td>0.105319</td>\n",
       "      <td>0.885656</td>\n",
       "      <td>0.113225</td>\n",
       "      <td>0.038444</td>\n",
       "      <td>0.063883</td>\n",
       "      <td>0.085818</td>\n",
       "    </tr>\n",
       "  </tbody>\n",
       "</table>\n",
       "<p>5 rows × 73 columns</p>\n",
       "</div>"
      ],
      "text/plain": [
       "                        ID                   exons          exon_id  \\\n",
       "0  17:41197805:ACATCTGCC>A  17:41196311-41197819:-  ENSE00001814242   \n",
       "1  17:41197805:ACATCTGCC>A  17:41196312-41197819:-  ENSE00001312675   \n",
       "2  17:41197805:ACATCTGCC>A  17:41196821-41197819:-  ENSE00001831829   \n",
       "3  17:41197805:ACATCTGCC>A  17:41197579-41197819:-  ENSE00002914501   \n",
       "4  17:41197805:ACATCTGCC>A  17:41197645-41197819:-  ENSE00001937547   \n",
       "\n",
       "           gene_id gene_name    transcript_id  delta_logit_psi  \\\n",
       "0  ENSG00000012048     BRCA1  ENST00000357654         0.001848   \n",
       "1  ENSG00000012048     BRCA1  ENST00000354071         0.001852   \n",
       "2  ENSG00000012048     BRCA1  ENST00000468300         0.006490   \n",
       "3  ENSG00000012048     BRCA1  ENST00000586385         0.044888   \n",
       "4  ENSG00000012048     BRCA1  ENST00000493795         0.048545   \n",
       "\n",
       "   ref_acceptorIntron  ref_acceptor  ref_exon  ...  Not Sun Exposed - Skin  \\\n",
       "0           -2.924059      5.068939 -4.191132  ...                0.053964   \n",
       "1           -2.924059      5.068939 -4.190762  ...                0.055764   \n",
       "2           -2.924059      5.068939 -3.869307  ...                0.056254   \n",
       "3           -2.924059      5.068939 -3.507481  ...                0.084291   \n",
       "4           -2.924059      5.068939 -3.694287  ...                0.132582   \n",
       "\n",
       "   Sun Exposed (Lower leg) - Skin  Ileum - Small Intestine    Spleen  \\\n",
       "0                        0.082243                 0.101328  0.075041   \n",
       "1                        0.084173                 0.102613  0.075961   \n",
       "2                        0.086411                 0.093613  0.076901   \n",
       "3                        0.113552                 0.121693  0.101070   \n",
       "4                        0.164388                 0.146401  0.129797   \n",
       "\n",
       "    Stomach    Testis   Thyroid    Uterus    Vagina  Whole Blood  \n",
       "0  0.051953  0.773216  0.050436 -0.025338 -0.003824     0.027193  \n",
       "1  0.053700  0.744371  0.051365 -0.023235 -0.002185     0.031144  \n",
       "2  0.046173  0.950643  0.062990 -0.022413  0.001350     0.011484  \n",
       "3  0.081794  0.834321  0.084638  0.022229  0.034102     0.059702  \n",
       "4  0.105319  0.885656  0.113225  0.038444  0.063883     0.085818  \n",
       "\n",
       "[5 rows x 73 columns]"
      ]
     },
     "execution_count": 21,
     "metadata": {},
     "output_type": "execute_result"
    }
   ],
   "source": [
    "df_tissue.head()"
   ]
  },
  {
   "cell_type": "markdown",
   "metadata": {},
   "source": [
    "Nature scale"
   ]
  },
  {
   "cell_type": "code",
   "execution_count": 22,
   "metadata": {},
   "outputs": [
    {
     "name": "stdout",
     "output_type": "stream",
     "text": [
      "WARNING:tensorflow:No training configuration found in the save file, so the model was *not* compiled. Compile it manually.\n",
      "WARNING:tensorflow:No training configuration found in the save file, so the model was *not* compiled. Compile it manually.\n",
      "WARNING:tensorflow:No training configuration found in the save file, so the model was *not* compiled. Compile it manually.\n",
      "WARNING:tensorflow:No training configuration found in the save file, so the model was *not* compiled. Compile it manually.\n",
      "WARNING:tensorflow:No training configuration found in the save file, so the model was *not* compiled. Compile it manually.\n",
      "WARNING:tensorflow:No training configuration found in the save file, so the model was *not* compiled. Compile it manually.\n",
      "WARNING:tensorflow:No training configuration found in the save file, so the model was *not* compiled. Compile it manually.\n",
      "WARNING:tensorflow:No training configuration found in the save file, so the model was *not* compiled. Compile it manually.\n"
     ]
    },
    {
     "name": "stderr",
     "output_type": "stream",
     "text": [
      "4it [00:21,  5.31s/it]\n"
     ]
    }
   ],
   "source": [
    "dl = SplicingVCFDataloader(gtf, fasta, vcf, tissue_specific=True)\n",
    "df_tissue = predict_all_table(model, dl, natural_scale=True, ref_psi_version='grch37')"
   ]
  },
  {
   "cell_type": "code",
   "execution_count": 23,
   "metadata": {},
   "outputs": [
    {
     "data": {
      "text/html": [
       "<div>\n",
       "<style scoped>\n",
       "    .dataframe tbody tr th:only-of-type {\n",
       "        vertical-align: middle;\n",
       "    }\n",
       "\n",
       "    .dataframe tbody tr th {\n",
       "        vertical-align: top;\n",
       "    }\n",
       "\n",
       "    .dataframe thead th {\n",
       "        text-align: right;\n",
       "    }\n",
       "</style>\n",
       "<table border=\"1\" class=\"dataframe\">\n",
       "  <thead>\n",
       "    <tr style=\"text-align: right;\">\n",
       "      <th></th>\n",
       "      <th>ID</th>\n",
       "      <th>exons</th>\n",
       "      <th>exon_id</th>\n",
       "      <th>gene_id</th>\n",
       "      <th>gene_name</th>\n",
       "      <th>transcript_id</th>\n",
       "      <th>delta_logit_psi</th>\n",
       "      <th>ref_acceptorIntron</th>\n",
       "      <th>ref_acceptor</th>\n",
       "      <th>ref_exon</th>\n",
       "      <th>...</th>\n",
       "      <th>Not Sun Exposed - Skin_delta_psi</th>\n",
       "      <th>Sun Exposed (Lower leg) - Skin_delta_psi</th>\n",
       "      <th>Ileum - Small Intestine_delta_psi</th>\n",
       "      <th>Spleen_delta_psi</th>\n",
       "      <th>Stomach_delta_psi</th>\n",
       "      <th>Testis_delta_psi</th>\n",
       "      <th>Thyroid_delta_psi</th>\n",
       "      <th>Uterus_delta_psi</th>\n",
       "      <th>Vagina_delta_psi</th>\n",
       "      <th>Whole Blood_delta_psi</th>\n",
       "    </tr>\n",
       "  </thead>\n",
       "  <tbody>\n",
       "    <tr>\n",
       "      <th>0</th>\n",
       "      <td>17:41197805:ACATCTGCC&gt;A</td>\n",
       "      <td>17:41196311-41197819:-</td>\n",
       "      <td>ENSE00001814242</td>\n",
       "      <td>ENSG00000012048</td>\n",
       "      <td>BRCA1</td>\n",
       "      <td>ENST00000357654</td>\n",
       "      <td>0.001848</td>\n",
       "      <td>-2.924059</td>\n",
       "      <td>5.068939</td>\n",
       "      <td>-4.191132</td>\n",
       "      <td>...</td>\n",
       "      <td>0.000052</td>\n",
       "      <td>0.000079</td>\n",
       "      <td>0.000096</td>\n",
       "      <td>0.000072</td>\n",
       "      <td>0.000051</td>\n",
       "      <td>0.000538</td>\n",
       "      <td>0.000049</td>\n",
       "      <td>-0.000026</td>\n",
       "      <td>-0.000004</td>\n",
       "      <td>0.000027</td>\n",
       "    </tr>\n",
       "    <tr>\n",
       "      <th>1</th>\n",
       "      <td>17:41197805:ACATCTGCC&gt;A</td>\n",
       "      <td>17:41196312-41197819:-</td>\n",
       "      <td>ENSE00001312675</td>\n",
       "      <td>ENSG00000012048</td>\n",
       "      <td>BRCA1</td>\n",
       "      <td>ENST00000354071</td>\n",
       "      <td>0.001852</td>\n",
       "      <td>-2.924059</td>\n",
       "      <td>5.068939</td>\n",
       "      <td>-4.190762</td>\n",
       "      <td>...</td>\n",
       "      <td>NaN</td>\n",
       "      <td>NaN</td>\n",
       "      <td>NaN</td>\n",
       "      <td>NaN</td>\n",
       "      <td>NaN</td>\n",
       "      <td>NaN</td>\n",
       "      <td>NaN</td>\n",
       "      <td>NaN</td>\n",
       "      <td>NaN</td>\n",
       "      <td>NaN</td>\n",
       "    </tr>\n",
       "    <tr>\n",
       "      <th>2</th>\n",
       "      <td>17:41197805:ACATCTGCC&gt;A</td>\n",
       "      <td>17:41196821-41197819:-</td>\n",
       "      <td>ENSE00001831829</td>\n",
       "      <td>ENSG00000012048</td>\n",
       "      <td>BRCA1</td>\n",
       "      <td>ENST00000468300</td>\n",
       "      <td>0.006490</td>\n",
       "      <td>-2.924059</td>\n",
       "      <td>5.068939</td>\n",
       "      <td>-3.869307</td>\n",
       "      <td>...</td>\n",
       "      <td>0.000058</td>\n",
       "      <td>0.000090</td>\n",
       "      <td>0.000098</td>\n",
       "      <td>0.000080</td>\n",
       "      <td>0.000047</td>\n",
       "      <td>0.001583</td>\n",
       "      <td>0.000065</td>\n",
       "      <td>-0.000022</td>\n",
       "      <td>0.000001</td>\n",
       "      <td>0.000012</td>\n",
       "    </tr>\n",
       "    <tr>\n",
       "      <th>3</th>\n",
       "      <td>17:41197805:ACATCTGCC&gt;A</td>\n",
       "      <td>17:41197579-41197819:-</td>\n",
       "      <td>ENSE00002914501</td>\n",
       "      <td>ENSG00000012048</td>\n",
       "      <td>BRCA1</td>\n",
       "      <td>ENST00000586385</td>\n",
       "      <td>0.044888</td>\n",
       "      <td>-2.924059</td>\n",
       "      <td>5.068939</td>\n",
       "      <td>-3.507481</td>\n",
       "      <td>...</td>\n",
       "      <td>0.000088</td>\n",
       "      <td>0.000120</td>\n",
       "      <td>0.000129</td>\n",
       "      <td>0.000106</td>\n",
       "      <td>0.000085</td>\n",
       "      <td>0.001300</td>\n",
       "      <td>0.000088</td>\n",
       "      <td>0.000022</td>\n",
       "      <td>0.000035</td>\n",
       "      <td>0.000061</td>\n",
       "    </tr>\n",
       "    <tr>\n",
       "      <th>4</th>\n",
       "      <td>17:41197805:ACATCTGCC&gt;A</td>\n",
       "      <td>17:41197645-41197819:-</td>\n",
       "      <td>ENSE00001937547</td>\n",
       "      <td>ENSG00000012048</td>\n",
       "      <td>BRCA1</td>\n",
       "      <td>ENST00000493795</td>\n",
       "      <td>0.048545</td>\n",
       "      <td>-2.924059</td>\n",
       "      <td>5.068939</td>\n",
       "      <td>-3.694287</td>\n",
       "      <td>...</td>\n",
       "      <td>0.000142</td>\n",
       "      <td>0.000178</td>\n",
       "      <td>0.000157</td>\n",
       "      <td>0.000138</td>\n",
       "      <td>0.000111</td>\n",
       "      <td>0.001421</td>\n",
       "      <td>0.000120</td>\n",
       "      <td>0.000039</td>\n",
       "      <td>0.000066</td>\n",
       "      <td>0.000090</td>\n",
       "    </tr>\n",
       "  </tbody>\n",
       "</table>\n",
       "<p>5 rows × 181 columns</p>\n",
       "</div>"
      ],
      "text/plain": [
       "                        ID                   exons          exon_id  \\\n",
       "0  17:41197805:ACATCTGCC>A  17:41196311-41197819:-  ENSE00001814242   \n",
       "1  17:41197805:ACATCTGCC>A  17:41196312-41197819:-  ENSE00001312675   \n",
       "2  17:41197805:ACATCTGCC>A  17:41196821-41197819:-  ENSE00001831829   \n",
       "3  17:41197805:ACATCTGCC>A  17:41197579-41197819:-  ENSE00002914501   \n",
       "4  17:41197805:ACATCTGCC>A  17:41197645-41197819:-  ENSE00001937547   \n",
       "\n",
       "           gene_id gene_name    transcript_id  delta_logit_psi  \\\n",
       "0  ENSG00000012048     BRCA1  ENST00000357654         0.001848   \n",
       "1  ENSG00000012048     BRCA1  ENST00000354071         0.001852   \n",
       "2  ENSG00000012048     BRCA1  ENST00000468300         0.006490   \n",
       "3  ENSG00000012048     BRCA1  ENST00000586385         0.044888   \n",
       "4  ENSG00000012048     BRCA1  ENST00000493795         0.048545   \n",
       "\n",
       "   ref_acceptorIntron  ref_acceptor  ref_exon  ...  \\\n",
       "0           -2.924059      5.068939 -4.191132  ...   \n",
       "1           -2.924059      5.068939 -4.190762  ...   \n",
       "2           -2.924059      5.068939 -3.869307  ...   \n",
       "3           -2.924059      5.068939 -3.507481  ...   \n",
       "4           -2.924059      5.068939 -3.694287  ...   \n",
       "\n",
       "   Not Sun Exposed - Skin_delta_psi  Sun Exposed (Lower leg) - Skin_delta_psi  \\\n",
       "0                          0.000052                                  0.000079   \n",
       "1                               NaN                                       NaN   \n",
       "2                          0.000058                                  0.000090   \n",
       "3                          0.000088                                  0.000120   \n",
       "4                          0.000142                                  0.000178   \n",
       "\n",
       "   Ileum - Small Intestine_delta_psi  Spleen_delta_psi  Stomach_delta_psi  \\\n",
       "0                           0.000096          0.000072           0.000051   \n",
       "1                                NaN               NaN                NaN   \n",
       "2                           0.000098          0.000080           0.000047   \n",
       "3                           0.000129          0.000106           0.000085   \n",
       "4                           0.000157          0.000138           0.000111   \n",
       "\n",
       "   Testis_delta_psi  Thyroid_delta_psi  Uterus_delta_psi  Vagina_delta_psi  \\\n",
       "0          0.000538           0.000049         -0.000026         -0.000004   \n",
       "1               NaN                NaN               NaN               NaN   \n",
       "2          0.001583           0.000065         -0.000022          0.000001   \n",
       "3          0.001300           0.000088          0.000022          0.000035   \n",
       "4          0.001421           0.000120          0.000039          0.000066   \n",
       "\n",
       "   Whole Blood_delta_psi  \n",
       "0               0.000027  \n",
       "1                    NaN  \n",
       "2               0.000012  \n",
       "3               0.000061  \n",
       "4               0.000090  \n",
       "\n",
       "[5 rows x 181 columns]"
      ]
     },
     "execution_count": 23,
     "metadata": {},
     "output_type": "execute_result"
    }
   ],
   "source": [
    "df_tissue.head()"
   ]
  },
  {
   "cell_type": "code",
   "execution_count": null,
   "metadata": {},
   "outputs": [],
   "source": []
  }
 ],
 "metadata": {
  "kernelspec": {
   "display_name": "Python 3",
   "language": "python",
   "name": "python3"
  },
  "language_info": {
   "codemirror_mode": {
    "name": "ipython",
    "version": 3
   },
   "file_extension": ".py",
   "mimetype": "text/x-python",
   "name": "python",
   "nbconvert_exporter": "python",
   "pygments_lexer": "ipython3",
   "version": "3.6.12"
  }
 },
 "nbformat": 4,
 "nbformat_minor": 2
}
