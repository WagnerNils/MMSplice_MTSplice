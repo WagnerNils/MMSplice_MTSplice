{
 "cells": [
  {
   "cell_type": "markdown",
   "metadata": {},
   "source": [
    "# Example code to apply the modular splicing model"
   ]
  },
  {
   "cell_type": "markdown",
   "metadata": {},
   "source": [
    "## Splicing delta PSI prediction"
   ]
  },
  {
   "cell_type": "markdown",
   "metadata": {},
   "source": [
    "Example test variants come from ClinVar BRCA1 variants"
   ]
  },
  {
   "cell_type": "code",
   "execution_count": 1,
   "metadata": {
    "scrolled": true
   },
   "outputs": [
    {
     "name": "stderr",
     "output_type": "stream",
     "text": [
      "Using TensorFlow backend.\n",
      "/opt/modules/i12g/anaconda/3-5.0.1/envs/mmsplice_mtsplice/lib/python3.6/site-packages/concise/utils/plot.py:115: FutureWarning: arrays to stack must be passed as a \"sequence\" type such as list or tuple. Support for non-sequence iterables such as generators is deprecated as of NumPy 1.16 and will raise an error in the future.\n",
      "  min_coords = np.vstack(data.min(0) for data in polygons_data).min(0)\n",
      "/opt/modules/i12g/anaconda/3-5.0.1/envs/mmsplice_mtsplice/lib/python3.6/site-packages/concise/utils/plot.py:116: FutureWarning: arrays to stack must be passed as a \"sequence\" type such as list or tuple. Support for non-sequence iterables such as generators is deprecated as of NumPy 1.16 and will raise an error in the future.\n",
      "  max_coords = np.vstack(data.max(0) for data in polygons_data).max(0)\n"
     ]
    },
    {
     "name": "stdout",
     "output_type": "stream",
     "text": [
      "\n",
      "WARNING: Dependencies for model source 'kipoi' stored at local_path /data/nasif12/home_if12/chengju/.kipoi/models/ not satisfied.: \n",
      "---\n",
      "Installed package 'kipoi=0.6.9' doesn't comply with 'kipoi>=0.6.17'\n",
      "---\n",
      "install or update the missing packages\n",
      "\n",
      "Note: If you don't want to auto_update the model source, \n",
      "add `auto_update: False` to ~/.kipoi/config.yaml\n",
      "\n"
     ]
    }
   ],
   "source": [
    "from mmsplice.vcf_dataloader import SplicingVCFDataloader\n",
    "from mmsplice import MMSplice, predict_all_table, predict_save\n",
    "from mmsplice.utils import max_varEff"
   ]
  },
  {
   "cell_type": "code",
   "execution_count": 2,
   "metadata": {
    "collapsed": true
   },
   "outputs": [],
   "source": [
    "gtf = '../tests/data/test.gtf'\n",
    "vcf = '../tests/data/test.vcf.gz'\n",
    "fasta = '../tests/data/hg19.nochr.chr17.fa'"
   ]
  },
  {
   "cell_type": "code",
   "execution_count": 3,
   "metadata": {
    "collapsed": true,
    "scrolled": false
   },
   "outputs": [],
   "source": [
    "dl = SplicingVCFDataloader(gtf, fasta, vcf, encode=False, split_seq=True)"
   ]
  },
  {
   "cell_type": "code",
   "execution_count": 4,
   "metadata": {
    "scrolled": false
   },
   "outputs": [
    {
     "data": {
      "text/plain": [
       "{'inputs': {'seq': {'acceptor_intron': 'CCTAAGAACTCATACAACCAGGACCCTGGAGTCGATTGATTAGAGCCTAGTCCAGGAGAATGAATTGACACTAATCTCTGCTTGTGTTCTCTGT',\n",
       "   'acceptor': 'TCCAGGAGAATGAATTGACACTAATCTCTGCTTGTGTTCTCTGTCTCCAGCAA',\n",
       "   'exon': 'CAATTGGGCAGATGTGTGAGGCACCTGTGGTGACCCGAGAGTGGGTGTTGGACAGTGTAGCACTCTACCAGTGCCAGGAGCTGGACACCTACCTGATACCCCAGATCCCCCACAGCCACTACTGACTGCAGCCAGCCACAGGTACAGAGCCACAGGACCCCAAGAATGAGCTTACAAAGTGGCCTTTCCAGGCCCTGGGAGCTCCTCTCACTCTTCAGTCCTTCTACTGTCCTGGCTACTAAATATTTTATGTACATCAGCCTGAAAAGGACTTCTGGCTATGCAAGGGTCCCTTAAAGATTTTCTGCTTGAAGTCTCCCTTGGAAATCTGCCATGAGCACAAAATTATGGTAATTTTTCACCTGAGAAGATTTTAAAACCATTTAAACGCCACCAATTGAGCAAGATGCTGATTCATTATTTATCAGCCCTATTCTTTCTATTCAGGCTGTTGTTGGCTTAGGGCTGGAAGCACAGAGTGGCTTGGCCTCAAGAGAATAGCTGGTTTCCCTAAGTTTACTTCTCTAAAACCCTGTGTTCACAAAGGCAGAGAGTCAGACCCTTCAATGGAAGGAGAGTGCTTGGGATCGATTATGTGACTTAAAGTCAGAATAGTCCTTGGGCAGTTCTCAAATGTTGGAGTGGAACATTGGGGAGGAAATTCTGAGGCAGGTATTAGAAATGAAAAGGAAACTTGAAACCTGGGCATGGTGGCTCACGCCTGTAATCCCAGCACTTTGGGAGGCCAAGGTGGGCAGATCACTGGAGGTCAGGAGTTCGAAACCAGCCTGGCCAACATGGTGAAACCCCATCTCTACTAAAAATACAGAAATTAGCCGGTCATGGTGGTGGACACCTGTAATCCCAGCTACTCAGGTGGCTAAGGCAGGAGAATCACTTCAGCCCGGGAGGTGGAGGTTGCAGTGAGCCAAGATCATACCACGGCACTCCAGCCTGGGTGACAGTGAGACTGTGGCTCAAAAAAAAAAAAAAAAAAAGGAAAATGAAACTAGAAGAGATTTCTAAAAGTCTGAGATATATTTGCTAGATTTCTAAAGAATGTGTTCTAAAACAGCAGAAGATTTTCAAGAACCGGTTTCCAAAGACAGTCTTCTAATTCCTCATTAGTAATAAGTAAAATGTTTATTGTTGTAGCTCTGGTATATAATCCATTCCTCTTAAAATATAAGACCTCTGGCATGAATATTTCATATCTATAAAATGACAGATCCCACCAGGAAGGAAGCTGTTGCTTTCTTTGAGGTGATTTTTTTCCTTTGCTCCCTGTTGCTGAAACCATACAGCTTCATAAATAATTTTGCTTGCTGAAGGAAGAAAAAGTGTTTTTCATAAACCCATTATCCAGGACTGTTTATAGCTGTTGGAAGGACTAGGTCTTCCCTAGCCCCCCCAGTGTGCAAGGGCAGTGAAGACTTGATTGTACAAAATACGTTTTGTAAATGTTGTGCTGTTAACACTGCAAATAAACTTGGTAGCAAACACTTCCA',\n",
       "   'donor': 'TTCCANNNNNNNNNNNNN',\n",
       "   'donor_intron': 'NNNNNNNN'},\n",
       "  'mut_seq': {'acceptor_intron': 'CCTAAGAACTCATACAACCAGGACCCTGGAGTCGATTGATTAGAGCCTAGTCCAGGAGAATGAATTGACACTAATCTCTGCTTGTGTTCTCTGT',\n",
       "   'acceptor': 'TCCAGGAGAATGAATTGACACTAATCTCTGCTTGTGTTCTCTGTCTCCAGCAA',\n",
       "   'exon': 'CAATTGTGTGAGGCACCTGTGGTGACCCGAGAGTGGGTGTTGGACAGTGTAGCACTCTACCAGTGCCAGGAGCTGGACACCTACCTGATACCCCAGATCCCCCACAGCCACTACTGACTGCAGCCAGCCACAGGTACAGAGCCACAGGACCCCAAGAATGAGCTTACAAAGTGGCCTTTCCAGGCCCTGGGAGCTCCTCTCACTCTTCAGTCCTTCTACTGTCCTGGCTACTAAATATTTTATGTACATCAGCCTGAAAAGGACTTCTGGCTATGCAAGGGTCCCTTAAAGATTTTCTGCTTGAAGTCTCCCTTGGAAATCTGCCATGAGCACAAAATTATGGTAATTTTTCACCTGAGAAGATTTTAAAACCATTTAAACGCCACCAATTGAGCAAGATGCTGATTCATTATTTATCAGCCCTATTCTTTCTATTCAGGCTGTTGTTGGCTTAGGGCTGGAAGCACAGAGTGGCTTGGCCTCAAGAGAATAGCTGGTTTCCCTAAGTTTACTTCTCTAAAACCCTGTGTTCACAAAGGCAGAGAGTCAGACCCTTCAATGGAAGGAGAGTGCTTGGGATCGATTATGTGACTTAAAGTCAGAATAGTCCTTGGGCAGTTCTCAAATGTTGGAGTGGAACATTGGGGAGGAAATTCTGAGGCAGGTATTAGAAATGAAAAGGAAACTTGAAACCTGGGCATGGTGGCTCACGCCTGTAATCCCAGCACTTTGGGAGGCCAAGGTGGGCAGATCACTGGAGGTCAGGAGTTCGAAACCAGCCTGGCCAACATGGTGAAACCCCATCTCTACTAAAAATACAGAAATTAGCCGGTCATGGTGGTGGACACCTGTAATCCCAGCTACTCAGGTGGCTAAGGCAGGAGAATCACTTCAGCCCGGGAGGTGGAGGTTGCAGTGAGCCAAGATCATACCACGGCACTCCAGCCTGGGTGACAGTGAGACTGTGGCTCAAAAAAAAAAAAAAAAAAAGGAAAATGAAACTAGAAGAGATTTCTAAAAGTCTGAGATATATTTGCTAGATTTCTAAAGAATGTGTTCTAAAACAGCAGAAGATTTTCAAGAACCGGTTTCCAAAGACAGTCTTCTAATTCCTCATTAGTAATAAGTAAAATGTTTATTGTTGTAGCTCTGGTATATAATCCATTCCTCTTAAAATATAAGACCTCTGGCATGAATATTTCATATCTATAAAATGACAGATCCCACCAGGAAGGAAGCTGTTGCTTTCTTTGAGGTGATTTTTTTCCTTTGCTCCCTGTTGCTGAAACCATACAGCTTCATAAATAATTTTGCTTGCTGAAGGAAGAAAAAGTGTTTTTCATAAACCCATTATCCAGGACTGTTTATAGCTGTTGGAAGGACTAGGTCTTCCCTAGCCCCCCCAGTGTGCAAGGGCAGTGAAGACTTGATTGTACAAAATACGTTTTGTAAATGTTGTGCTGTTAACACTGCAAATAAACTTGGTAGCAAACACTTCCA',\n",
       "   'donor': 'TTCCANNNNNNNNNNNNN',\n",
       "   'donor_intron': 'NNNNNNNN'}},\n",
       " 'metadata': {'variant': {'chrom': '17',\n",
       "   'pos': 41197805,\n",
       "   'ref': 'ACATCTGCC',\n",
       "   'alt': 'A',\n",
       "   'annotation': '17:41197805:ACATCTGCC>A'},\n",
       "  'exon': {'chrom': '17',\n",
       "   'start': 41196311,\n",
       "   'end': 41197819,\n",
       "   'strand': '-',\n",
       "   'left_overhang': 0,\n",
       "   'right_overhang': 100,\n",
       "   'annotation': '17:41196311-41197819:-',\n",
       "   'exon_id': 'ENSE00001814242',\n",
       "   'gene_id': 'ENSG00000012048',\n",
       "   'gene_name': 'BRCA1',\n",
       "   'transcript_id': 'ENST00000357654'}}}"
      ]
     },
     "execution_count": 4,
     "metadata": {},
     "output_type": "execute_result"
    }
   ],
   "source": [
    "next(dl)"
   ]
  },
  {
   "cell_type": "code",
   "execution_count": 5,
   "metadata": {
    "collapsed": true
   },
   "outputs": [],
   "source": [
    "model = MMSplice()"
   ]
  },
  {
   "cell_type": "code",
   "execution_count": 6,
   "metadata": {
    "scrolled": false
   },
   "outputs": [
    {
     "name": "stderr",
     "output_type": "stream",
     "text": [
      "4it [00:17,  3.85s/it]\n"
     ]
    }
   ],
   "source": [
    "dl = SplicingVCFDataloader(gtf, fasta, vcf)\n",
    "\n",
    "predictions = predict_all_table(model, dl, pathogenicity=True, splicing_efficiency=True)"
   ]
  },
  {
   "cell_type": "code",
   "execution_count": 7,
   "metadata": {
    "collapsed": true
   },
   "outputs": [],
   "source": [
    "predictionsMax = max_varEff(predictions)"
   ]
  },
  {
   "cell_type": "code",
   "execution_count": 8,
   "metadata": {},
   "outputs": [
    {
     "data": {
      "text/html": [
       "<div>\n",
       "<style scoped>\n",
       "    .dataframe tbody tr th:only-of-type {\n",
       "        vertical-align: middle;\n",
       "    }\n",
       "\n",
       "    .dataframe tbody tr th {\n",
       "        vertical-align: top;\n",
       "    }\n",
       "\n",
       "    .dataframe thead th {\n",
       "        text-align: right;\n",
       "    }\n",
       "</style>\n",
       "<table border=\"1\" class=\"dataframe\">\n",
       "  <thead>\n",
       "    <tr style=\"text-align: right;\">\n",
       "      <th></th>\n",
       "      <th>ID</th>\n",
       "      <th>delta_logit_psi</th>\n",
       "      <th>exons</th>\n",
       "      <th>exon_id</th>\n",
       "      <th>gene_id</th>\n",
       "      <th>gene_name</th>\n",
       "      <th>transcript_id</th>\n",
       "      <th>ref_acceptorIntron</th>\n",
       "      <th>ref_acceptor</th>\n",
       "      <th>ref_exon</th>\n",
       "      <th>ref_donor</th>\n",
       "      <th>ref_donorIntron</th>\n",
       "      <th>alt_acceptorIntron</th>\n",
       "      <th>alt_acceptor</th>\n",
       "      <th>alt_exon</th>\n",
       "      <th>alt_donor</th>\n",
       "      <th>alt_donorIntron</th>\n",
       "      <th>pathogenicity</th>\n",
       "      <th>efficiency</th>\n",
       "    </tr>\n",
       "  </thead>\n",
       "  <tbody>\n",
       "    <tr>\n",
       "      <th>939</th>\n",
       "      <td>17:41251568:GTGAGCCACCATGCCTGGCCTCTTTTGCTCCCTT...</td>\n",
       "      <td>-13.142139</td>\n",
       "      <td>17:41251791-41251894:-</td>\n",
       "      <td>ENSE00003477699</td>\n",
       "      <td>ENSG00000012048</td>\n",
       "      <td>BRCA1</td>\n",
       "      <td>ENST00000461221</td>\n",
       "      <td>-2.928739</td>\n",
       "      <td>1.003448</td>\n",
       "      <td>-3.000968</td>\n",
       "      <td>2.998045</td>\n",
       "      <td>0.683019</td>\n",
       "      <td>-3.894215</td>\n",
       "      <td>-5.617308</td>\n",
       "      <td>-1.16161</td>\n",
       "      <td>-4.262197</td>\n",
       "      <td>0.008081</td>\n",
       "      <td>1.0</td>\n",
       "      <td>-7.652236</td>\n",
       "    </tr>\n",
       "    <tr>\n",
       "      <th>396</th>\n",
       "      <td>17:41219540:CGATTACAGGCATGCGCCACCGTGCCTCGCCTCA...</td>\n",
       "      <td>-12.980691</td>\n",
       "      <td>17:41219624-41219712:-</td>\n",
       "      <td>ENSE00003492626</td>\n",
       "      <td>ENSG00000012048</td>\n",
       "      <td>BRCA1</td>\n",
       "      <td>ENST00000357654</td>\n",
       "      <td>-2.256955</td>\n",
       "      <td>4.854000</td>\n",
       "      <td>-4.449435</td>\n",
       "      <td>2.749682</td>\n",
       "      <td>0.218514</td>\n",
       "      <td>-2.898835</td>\n",
       "      <td>-6.655025</td>\n",
       "      <td>-1.16161</td>\n",
       "      <td>-3.431215</td>\n",
       "      <td>-0.198021</td>\n",
       "      <td>1.0</td>\n",
       "      <td>-6.342944</td>\n",
       "    </tr>\n",
       "    <tr>\n",
       "      <th>606</th>\n",
       "      <td>17:41232465:TGGCCTCCCAAAGTGCTGGGGTTACAGGCGTGAG...</td>\n",
       "      <td>-12.446247</td>\n",
       "      <td>17:41234420-41234592:-</td>\n",
       "      <td>ENSE00003527960</td>\n",
       "      <td>ENSG00000012048</td>\n",
       "      <td>BRCA1</td>\n",
       "      <td>ENST00000357654</td>\n",
       "      <td>-2.337047</td>\n",
       "      <td>0.198098</td>\n",
       "      <td>-3.064758</td>\n",
       "      <td>3.751723</td>\n",
       "      <td>0.509226</td>\n",
       "      <td>-3.498240</td>\n",
       "      <td>-5.302096</td>\n",
       "      <td>-1.16161</td>\n",
       "      <td>-2.475021</td>\n",
       "      <td>-0.310342</td>\n",
       "      <td>1.0</td>\n",
       "      <td>-5.989502</td>\n",
       "    </tr>\n",
       "    <tr>\n",
       "      <th>903</th>\n",
       "      <td>17:41248754:ATTTTCATCAGTCACAATTACTGCTGTGTCAATA...</td>\n",
       "      <td>-11.353837</td>\n",
       "      <td>17:41249260-41249306:-</td>\n",
       "      <td>ENSE00003587679</td>\n",
       "      <td>ENSG00000012048</td>\n",
       "      <td>BRCA1</td>\n",
       "      <td>ENST00000357654</td>\n",
       "      <td>-2.896458</td>\n",
       "      <td>0.525802</td>\n",
       "      <td>-3.411850</td>\n",
       "      <td>4.421351</td>\n",
       "      <td>0.797147</td>\n",
       "      <td>-3.806159</td>\n",
       "      <td>-6.966350</td>\n",
       "      <td>-1.16161</td>\n",
       "      <td>-3.872047</td>\n",
       "      <td>0.715352</td>\n",
       "      <td>1.0</td>\n",
       "      <td>-8.457780</td>\n",
       "    </tr>\n",
       "    <tr>\n",
       "      <th>642</th>\n",
       "      <td>17:41242891:GTGGGATACATACTACTGAATGCAAAGGACACCA...</td>\n",
       "      <td>-11.322243</td>\n",
       "      <td>17:41242960-41243049:-</td>\n",
       "      <td>ENSE00003547126</td>\n",
       "      <td>ENSG00000012048</td>\n",
       "      <td>BRCA1</td>\n",
       "      <td>ENST00000357654</td>\n",
       "      <td>-3.370246</td>\n",
       "      <td>4.042363</td>\n",
       "      <td>-3.705677</td>\n",
       "      <td>3.972384</td>\n",
       "      <td>0.524251</td>\n",
       "      <td>-2.947957</td>\n",
       "      <td>-5.811146</td>\n",
       "      <td>-1.16161</td>\n",
       "      <td>-4.428016</td>\n",
       "      <td>0.385194</td>\n",
       "      <td>1.0</td>\n",
       "      <td>-9.122525</td>\n",
       "    </tr>\n",
       "  </tbody>\n",
       "</table>\n",
       "</div>"
      ],
      "text/plain": [
       "                                                    ID  delta_logit_psi  \\\n",
       "939  17:41251568:GTGAGCCACCATGCCTGGCCTCTTTTGCTCCCTT...       -13.142139   \n",
       "396  17:41219540:CGATTACAGGCATGCGCCACCGTGCCTCGCCTCA...       -12.980691   \n",
       "606  17:41232465:TGGCCTCCCAAAGTGCTGGGGTTACAGGCGTGAG...       -12.446247   \n",
       "903  17:41248754:ATTTTCATCAGTCACAATTACTGCTGTGTCAATA...       -11.353837   \n",
       "642  17:41242891:GTGGGATACATACTACTGAATGCAAAGGACACCA...       -11.322243   \n",
       "\n",
       "                      exons          exon_id          gene_id gene_name  \\\n",
       "939  17:41251791-41251894:-  ENSE00003477699  ENSG00000012048     BRCA1   \n",
       "396  17:41219624-41219712:-  ENSE00003492626  ENSG00000012048     BRCA1   \n",
       "606  17:41234420-41234592:-  ENSE00003527960  ENSG00000012048     BRCA1   \n",
       "903  17:41249260-41249306:-  ENSE00003587679  ENSG00000012048     BRCA1   \n",
       "642  17:41242960-41243049:-  ENSE00003547126  ENSG00000012048     BRCA1   \n",
       "\n",
       "       transcript_id  ref_acceptorIntron  ref_acceptor  ref_exon  ref_donor  \\\n",
       "939  ENST00000461221           -2.928739      1.003448 -3.000968   2.998045   \n",
       "396  ENST00000357654           -2.256955      4.854000 -4.449435   2.749682   \n",
       "606  ENST00000357654           -2.337047      0.198098 -3.064758   3.751723   \n",
       "903  ENST00000357654           -2.896458      0.525802 -3.411850   4.421351   \n",
       "642  ENST00000357654           -3.370246      4.042363 -3.705677   3.972384   \n",
       "\n",
       "     ref_donorIntron  alt_acceptorIntron  alt_acceptor  alt_exon  alt_donor  \\\n",
       "939         0.683019           -3.894215     -5.617308  -1.16161  -4.262197   \n",
       "396         0.218514           -2.898835     -6.655025  -1.16161  -3.431215   \n",
       "606         0.509226           -3.498240     -5.302096  -1.16161  -2.475021   \n",
       "903         0.797147           -3.806159     -6.966350  -1.16161  -3.872047   \n",
       "642         0.524251           -2.947957     -5.811146  -1.16161  -4.428016   \n",
       "\n",
       "     alt_donorIntron  pathogenicity  efficiency  \n",
       "939         0.008081            1.0   -7.652236  \n",
       "396        -0.198021            1.0   -6.342944  \n",
       "606        -0.310342            1.0   -5.989502  \n",
       "903         0.715352            1.0   -8.457780  \n",
       "642         0.385194            1.0   -9.122525  "
      ]
     },
     "execution_count": 8,
     "metadata": {},
     "output_type": "execute_result"
    }
   ],
   "source": [
    "predictionsMax.sort_values(['delta_logit_psi']).head()"
   ]
  },
  {
   "cell_type": "code",
   "execution_count": 9,
   "metadata": {
    "collapsed": true
   },
   "outputs": [],
   "source": [
    "from mmsplice.utils import writeVCF"
   ]
  },
  {
   "cell_type": "code",
   "execution_count": 10,
   "metadata": {
    "scrolled": true
   },
   "outputs": [],
   "source": [
    "writeVCF(vcf, \"../tests/data/test-out.vcf\", predictionsMax)"
   ]
  },
  {
   "cell_type": "code",
   "execution_count": 11,
   "metadata": {
    "collapsed": true
   },
   "outputs": [],
   "source": [
    "import cyvcf2"
   ]
  },
  {
   "cell_type": "code",
   "execution_count": 12,
   "metadata": {},
   "outputs": [
    {
     "data": {
      "text/plain": [
       "'0.20.4'"
      ]
     },
     "execution_count": 12,
     "metadata": {},
     "output_type": "execute_result"
    }
   ],
   "source": [
    "cyvcf2.__version__"
   ]
  },
  {
   "cell_type": "markdown",
   "metadata": {},
   "source": [
    "If mmsplice `deltalogitPSI` of a variant is bigger than 2 or smaller -2 if is likely to have effect on splicing."
   ]
  },
  {
   "cell_type": "code",
   "execution_count": 13,
   "metadata": {},
   "outputs": [
    {
     "data": {
      "text/plain": [
       "<matplotlib.axes._subplots.AxesSubplot at 0x7fa2f8363d30>"
      ]
     },
     "execution_count": 13,
     "metadata": {},
     "output_type": "execute_result"
    },
    {
     "data": {
      "image/png": "[encoded data removed]",
      "text/plain": [
       "<Figure size 432x288 with 1 Axes>"
      ]
     },
     "metadata": {
      "needs_background": "light"
     },
     "output_type": "display_data"
    }
   ],
   "source": [
    "import matplotlib.pyplot as plt\n",
    "\n",
    "plt.axvline(x=2, color='r')\n",
    "plt.axvline(x=-2, color='r')\n",
    "\n",
    "predictions['delta_logit_psi'].hist(bins=20)"
   ]
  },
  {
   "cell_type": "markdown",
   "metadata": {},
   "source": [
    "For huge vcf files, output is writen to csv file on batch predictions."
   ]
  },
  {
   "cell_type": "code",
   "execution_count": 14,
   "metadata": {},
   "outputs": [
    {
     "name": "stderr",
     "output_type": "stream",
     "text": [
      "4it [00:16,  3.58s/it]\n"
     ]
    }
   ],
   "source": [
    "dl = SplicingVCFDataloader(gtf, fasta, vcf)\n",
    "predict_save(model, dl, output_csv='pred.csv', pathogenicity=True, splicing_efficiency=True)"
   ]
  },
  {
   "cell_type": "code",
   "execution_count": 15,
   "metadata": {},
   "outputs": [
    {
     "name": "stdout",
     "output_type": "stream",
     "text": [
      "ID,exons,exon_id,gene_id,gene_name,transcript_id,delta_logit_psi,ref_acceptorIntron,ref_acceptor,ref_exon,ref_donor,ref_donorIntron,alt_acceptorIntron,alt_acceptor,alt_exon,alt_donor,alt_donorIntron,pathogenicity,efficiency\r\n",
      "17:41197805:ACATCTGCC>A,17:41196311-41197819:-,ENSE00001814242,ENSG00000012048,BRCA1,ENST00000357654,0.0018479383059293569,-2.9240594,5.0689387,-4.191132,-3.1975443,0.10508263,-2.9240594,5.0689387,-4.1903567,-3.1975443,0.10508263,0.9086872558907043,-0.11951388100548177\r\n",
      "17:41197805:ACATCTGCC>A,17:41196312-41197819:-,ENSE00001312675,ENSG00000012048,BRCA1,ENST00000354071,0.0018508901191378701,-2.9240594,5.0689387,-4.190762,-2.977995,0.10508263,-2.9240594,5.0689387,-4.189985,-2.977995,0.10508263,0.898349294654518,-0.1195065643553132\r\n",
      "17:41197805:ACATCTGCC>A,17:41196821-41197819:-,ENSE00001831829,ENSG00000012048,BRCA1,ENST00000468300,0.006489664576316575,-2.9240594,5.0689387,-3.8693066,-2.1827195,0.10508263,-2.9240594,5.0689387,-3.865532,-2.1827195,0.10508263,0.8472335991054711,-0.10800844861539596\r\n",
      "17:41197805:ACATCTGCC>A,17:41197579-41197819:-,ENSE00002914501,ENSG00000012048,BRCA1,ENST00000586385,0.04488832669926228,-2.9240594,5.0689387,-3.507481,-3.032851,0.10508263,-2.9240594,5.0689387,-3.4788947,-3.032851,0.10508263,0.8946106370974521,-0.012829804897474664\r\n",
      "17:41197805:ACATCTGCC>A,17:41197645-41197819:-,ENSE00001937547,ENSG00000012048,BRCA1,ENST00000493795,0.04854488531130818,-2.9240594,5.0689387,-3.6942868,-3.278372,0.10508263,-2.9240594,5.0689387,-3.6633377,-3.278372,0.10508263,0.9083581151285743,-0.003766304501151105\r\n",
      "17:41197805:ACATCTGCC>A,17:41197694-41197819:-,ENSE00003513816,ENSG00000012048,BRCA1,ENST00000461221,0.04037057658363263,-2.9240594,5.0689387,-3.9611068,-3.1458025,0.10508263,-2.9240594,5.0689387,-3.9354396,-3.1458025,0.10508263,0.9047552398416334,-0.02402793798048028\r\n",
      "17:41197809:CTGCCCAAT>C,17:41196311-41197819:-,ENSE00001814242,ENSG00000012048,BRCA1,ENST00000357654,-0.20899207470271014,-2.9240594,5.0689387,-4.191132,-3.1975443,0.10508263,-2.9240594,4.7664943,-4.180473,-3.1975443,0.10508263,0.9732792117061092,-0.23590875031572456\r\n",
      "17:41197809:CTGCCCAAT>C,17:41196312-41197819:-,ENSE00001312675,ENSG00000012048,BRCA1,ENST00000354071,-0.20898474983191248,-2.9240594,5.0689387,-4.190762,-2.977995,0.10508263,-2.9240594,4.7664943,-4.1800942,-2.977995,0.10508263,0.9700127570929375,-0.23589519729245675\r\n",
      "17:41197809:CTGCCCAAT>C,17:41196821-41197819:-,ENSE00001831829,ENSG00000012048,BRCA1,ENST00000468300,-0.2020871631641508,-2.9240594,5.0689387,-3.8693066,-2.1827195,0.10508263,-2.9240594,4.7664943,-3.8505564,-2.1827195,0.10508263,0.9531234913363504,-0.22313276704862173\r\n"
     ]
    }
   ],
   "source": [
    "! head pred.csv"
   ]
  },
  {
   "cell_type": "markdown",
   "metadata": {},
   "source": [
    "## Exon dataloader"
   ]
  },
  {
   "cell_type": "markdown",
   "metadata": {},
   "source": [
    "Exon dataloader run mmsplice on specific set of variant-exon pairs provided by csv file which contains columns of ('chrom', 'start', 'end', 'strand', 'pos', 'ref', 'alt')"
   ]
  },
  {
   "cell_type": "code",
   "execution_count": 16,
   "metadata": {
    "collapsed": true
   },
   "outputs": [],
   "source": [
    "exons = '../tests/data/test_exons.csv'"
   ]
  },
  {
   "cell_type": "markdown",
   "metadata": {},
   "source": [
    "`ExonDataset` can be used interchangable with `SplicingVCFDataloader` for functions like `predict_save`, `predict_all_table`"
   ]
  },
  {
   "cell_type": "code",
   "execution_count": 17,
   "metadata": {},
   "outputs": [
    {
     "name": "stderr",
     "output_type": "stream",
     "text": [
      "1it [00:00, 10.49it/s]\n"
     ]
    }
   ],
   "source": [
    "from mmsplice.exon_dataloader import ExonDataset\n",
    "\n",
    "dl = ExonDataset(exons, fasta)\n",
    "exon_pred = predict_all_table(model, dl, pathogenicity=True, splicing_efficiency=True)"
   ]
  },
  {
   "cell_type": "code",
   "execution_count": 18,
   "metadata": {},
   "outputs": [
    {
     "data": {
      "text/plain": [
       "<matplotlib.axes._subplots.AxesSubplot at 0x7fa2f8363390>"
      ]
     },
     "execution_count": 18,
     "metadata": {},
     "output_type": "execute_result"
    },
    {
     "data": {
      "image/png": "[encoded data removed]",
      "text/plain": [
       "<Figure size 432x288 with 1 Axes>"
      ]
     },
     "metadata": {
      "needs_background": "light"
     },
     "output_type": "display_data"
    }
   ],
   "source": [
    "import matplotlib.pyplot as plt\n",
    "\n",
    "exon_pred['delta_logit_psi'].hist()"
   ]
  },
  {
   "cell_type": "code",
   "execution_count": 19,
   "metadata": {},
   "outputs": [
    {
     "name": "stderr",
     "output_type": "stream",
     "text": [
      "1it [00:00, 11.77it/s]\n"
     ]
    }
   ],
   "source": [
    "dl = ExonDataset(exons, fasta)\n",
    "predict_save(model, dl, output_csv='pred_exon.csv', pathogenicity=True, splicing_efficiency=True)"
   ]
  },
  {
   "cell_type": "markdown",
   "metadata": {},
   "source": [
    "## Tissue-spefic Analysis"
   ]
  },
  {
   "cell_type": "code",
   "execution_count": 20,
   "metadata": {},
   "outputs": [
    {
     "name": "stderr",
     "output_type": "stream",
     "text": [
      "/opt/modules/i12g/anaconda/3-5.0.1/envs/mmsplice_mtsplice/lib/python3.6/site-packages/keras/engine/saving.py:292: UserWarning: No training configuration found in save file: the model was *not* compiled. Compile it manually.\n",
      "  warnings.warn('No training configuration found in save file: '\n",
      "4it [00:25,  6.09s/it]\n"
     ]
    }
   ],
   "source": [
    "dl = SplicingVCFDataloader(gtf, fasta, vcf, tissue_specific=True)\n",
    "df_tissue = predict_all_table(model, dl)"
   ]
  },
  {
   "cell_type": "code",
   "execution_count": 21,
   "metadata": {},
   "outputs": [
    {
     "data": {
      "text/html": [
       "<div>\n",
       "<style scoped>\n",
       "    .dataframe tbody tr th:only-of-type {\n",
       "        vertical-align: middle;\n",
       "    }\n",
       "\n",
       "    .dataframe tbody tr th {\n",
       "        vertical-align: top;\n",
       "    }\n",
       "\n",
       "    .dataframe thead th {\n",
       "        text-align: right;\n",
       "    }\n",
       "</style>\n",
       "<table border=\"1\" class=\"dataframe\">\n",
       "  <thead>\n",
       "    <tr style=\"text-align: right;\">\n",
       "      <th></th>\n",
       "      <th>ID</th>\n",
       "      <th>exons</th>\n",
       "      <th>exon_id</th>\n",
       "      <th>gene_id</th>\n",
       "      <th>gene_name</th>\n",
       "      <th>transcript_id</th>\n",
       "      <th>delta_logit_psi</th>\n",
       "      <th>ref_acceptorIntron</th>\n",
       "      <th>ref_acceptor</th>\n",
       "      <th>ref_exon</th>\n",
       "      <th>...</th>\n",
       "      <th>Not Sun Exposed - Skin</th>\n",
       "      <th>Sun Exposed (Lower leg) - Skin</th>\n",
       "      <th>Ileum - Small Intestine</th>\n",
       "      <th>Spleen</th>\n",
       "      <th>Stomach</th>\n",
       "      <th>Testis</th>\n",
       "      <th>Thyroid</th>\n",
       "      <th>Uterus</th>\n",
       "      <th>Vagina</th>\n",
       "      <th>Whole Blood</th>\n",
       "    </tr>\n",
       "  </thead>\n",
       "  <tbody>\n",
       "    <tr>\n",
       "      <th>0</th>\n",
       "      <td>17:41197805:ACATCTGCC&gt;A</td>\n",
       "      <td>17:41196311-41197819:-</td>\n",
       "      <td>ENSE00001814242</td>\n",
       "      <td>ENSG00000012048</td>\n",
       "      <td>BRCA1</td>\n",
       "      <td>ENST00000357654</td>\n",
       "      <td>0.001848</td>\n",
       "      <td>-2.924059</td>\n",
       "      <td>5.068939</td>\n",
       "      <td>-4.191132</td>\n",
       "      <td>...</td>\n",
       "      <td>0.053964</td>\n",
       "      <td>0.082243</td>\n",
       "      <td>0.101328</td>\n",
       "      <td>0.075041</td>\n",
       "      <td>0.051953</td>\n",
       "      <td>0.773216</td>\n",
       "      <td>0.050436</td>\n",
       "      <td>-0.025338</td>\n",
       "      <td>-0.003824</td>\n",
       "      <td>0.027193</td>\n",
       "    </tr>\n",
       "    <tr>\n",
       "      <th>1</th>\n",
       "      <td>17:41197805:ACATCTGCC&gt;A</td>\n",
       "      <td>17:41196312-41197819:-</td>\n",
       "      <td>ENSE00001312675</td>\n",
       "      <td>ENSG00000012048</td>\n",
       "      <td>BRCA1</td>\n",
       "      <td>ENST00000354071</td>\n",
       "      <td>0.001851</td>\n",
       "      <td>-2.924059</td>\n",
       "      <td>5.068939</td>\n",
       "      <td>-4.190762</td>\n",
       "      <td>...</td>\n",
       "      <td>0.055763</td>\n",
       "      <td>0.084172</td>\n",
       "      <td>0.102612</td>\n",
       "      <td>0.075960</td>\n",
       "      <td>0.053700</td>\n",
       "      <td>0.744370</td>\n",
       "      <td>0.051364</td>\n",
       "      <td>-0.023236</td>\n",
       "      <td>-0.002186</td>\n",
       "      <td>0.031143</td>\n",
       "    </tr>\n",
       "    <tr>\n",
       "      <th>2</th>\n",
       "      <td>17:41197805:ACATCTGCC&gt;A</td>\n",
       "      <td>17:41196821-41197819:-</td>\n",
       "      <td>ENSE00001831829</td>\n",
       "      <td>ENSG00000012048</td>\n",
       "      <td>BRCA1</td>\n",
       "      <td>ENST00000468300</td>\n",
       "      <td>0.006490</td>\n",
       "      <td>-2.924059</td>\n",
       "      <td>5.068939</td>\n",
       "      <td>-3.869307</td>\n",
       "      <td>...</td>\n",
       "      <td>0.056254</td>\n",
       "      <td>0.086411</td>\n",
       "      <td>0.093613</td>\n",
       "      <td>0.076901</td>\n",
       "      <td>0.046173</td>\n",
       "      <td>0.950643</td>\n",
       "      <td>0.062990</td>\n",
       "      <td>-0.022413</td>\n",
       "      <td>0.001350</td>\n",
       "      <td>0.011484</td>\n",
       "    </tr>\n",
       "    <tr>\n",
       "      <th>3</th>\n",
       "      <td>17:41197805:ACATCTGCC&gt;A</td>\n",
       "      <td>17:41197579-41197819:-</td>\n",
       "      <td>ENSE00002914501</td>\n",
       "      <td>ENSG00000012048</td>\n",
       "      <td>BRCA1</td>\n",
       "      <td>ENST00000586385</td>\n",
       "      <td>0.044888</td>\n",
       "      <td>-2.924059</td>\n",
       "      <td>5.068939</td>\n",
       "      <td>-3.507481</td>\n",
       "      <td>...</td>\n",
       "      <td>0.084291</td>\n",
       "      <td>0.113551</td>\n",
       "      <td>0.121693</td>\n",
       "      <td>0.101070</td>\n",
       "      <td>0.081794</td>\n",
       "      <td>0.834321</td>\n",
       "      <td>0.084638</td>\n",
       "      <td>0.022229</td>\n",
       "      <td>0.034102</td>\n",
       "      <td>0.059702</td>\n",
       "    </tr>\n",
       "    <tr>\n",
       "      <th>4</th>\n",
       "      <td>17:41197805:ACATCTGCC&gt;A</td>\n",
       "      <td>17:41197645-41197819:-</td>\n",
       "      <td>ENSE00001937547</td>\n",
       "      <td>ENSG00000012048</td>\n",
       "      <td>BRCA1</td>\n",
       "      <td>ENST00000493795</td>\n",
       "      <td>0.048545</td>\n",
       "      <td>-2.924059</td>\n",
       "      <td>5.068939</td>\n",
       "      <td>-3.694287</td>\n",
       "      <td>...</td>\n",
       "      <td>0.132582</td>\n",
       "      <td>0.164388</td>\n",
       "      <td>0.146401</td>\n",
       "      <td>0.129797</td>\n",
       "      <td>0.105319</td>\n",
       "      <td>0.885656</td>\n",
       "      <td>0.113225</td>\n",
       "      <td>0.038444</td>\n",
       "      <td>0.063883</td>\n",
       "      <td>0.085818</td>\n",
       "    </tr>\n",
       "  </tbody>\n",
       "</table>\n",
       "<p>5 rows × 73 columns</p>\n",
       "</div>"
      ],
      "text/plain": [
       "                        ID                   exons          exon_id  \\\n",
       "0  17:41197805:ACATCTGCC>A  17:41196311-41197819:-  ENSE00001814242   \n",
       "1  17:41197805:ACATCTGCC>A  17:41196312-41197819:-  ENSE00001312675   \n",
       "2  17:41197805:ACATCTGCC>A  17:41196821-41197819:-  ENSE00001831829   \n",
       "3  17:41197805:ACATCTGCC>A  17:41197579-41197819:-  ENSE00002914501   \n",
       "4  17:41197805:ACATCTGCC>A  17:41197645-41197819:-  ENSE00001937547   \n",
       "\n",
       "           gene_id gene_name    transcript_id  delta_logit_psi  \\\n",
       "0  ENSG00000012048     BRCA1  ENST00000357654         0.001848   \n",
       "1  ENSG00000012048     BRCA1  ENST00000354071         0.001851   \n",
       "2  ENSG00000012048     BRCA1  ENST00000468300         0.006490   \n",
       "3  ENSG00000012048     BRCA1  ENST00000586385         0.044888   \n",
       "4  ENSG00000012048     BRCA1  ENST00000493795         0.048545   \n",
       "\n",
       "   ref_acceptorIntron  ref_acceptor  ref_exon     ...       \\\n",
       "0           -2.924059      5.068939 -4.191132     ...        \n",
       "1           -2.924059      5.068939 -4.190762     ...        \n",
       "2           -2.924059      5.068939 -3.869307     ...        \n",
       "3           -2.924059      5.068939 -3.507481     ...        \n",
       "4           -2.924059      5.068939 -3.694287     ...        \n",
       "\n",
       "   Not Sun Exposed - Skin  Sun Exposed (Lower leg) - Skin  \\\n",
       "0                0.053964                        0.082243   \n",
       "1                0.055763                        0.084172   \n",
       "2                0.056254                        0.086411   \n",
       "3                0.084291                        0.113551   \n",
       "4                0.132582                        0.164388   \n",
       "\n",
       "   Ileum - Small Intestine    Spleen   Stomach    Testis   Thyroid    Uterus  \\\n",
       "0                 0.101328  0.075041  0.051953  0.773216  0.050436 -0.025338   \n",
       "1                 0.102612  0.075960  0.053700  0.744370  0.051364 -0.023236   \n",
       "2                 0.093613  0.076901  0.046173  0.950643  0.062990 -0.022413   \n",
       "3                 0.121693  0.101070  0.081794  0.834321  0.084638  0.022229   \n",
       "4                 0.146401  0.129797  0.105319  0.885656  0.113225  0.038444   \n",
       "\n",
       "     Vagina  Whole Blood  \n",
       "0 -0.003824     0.027193  \n",
       "1 -0.002186     0.031143  \n",
       "2  0.001350     0.011484  \n",
       "3  0.034102     0.059702  \n",
       "4  0.063883     0.085818  \n",
       "\n",
       "[5 rows x 73 columns]"
      ]
     },
     "execution_count": 21,
     "metadata": {},
     "output_type": "execute_result"
    }
   ],
   "source": [
    "df_tissue.head()"
   ]
  }
 ],
 "metadata": {
  "kernelspec": {
   "display_name": "Python [conda env:mmsplice_mtsplice]",
   "language": "python",
   "name": "conda-env-mmsplice_mtsplice-py"
  },
  "language_info": {
   "codemirror_mode": {
    "name": "ipython",
    "version": 3
   },
   "file_extension": ".py",
   "mimetype": "text/x-python",
   "name": "python",
   "nbconvert_exporter": "python",
   "pygments_lexer": "ipython3",
   "version": "3.6.8"
  }
 },
 "nbformat": 4,
 "nbformat_minor": 2
}
